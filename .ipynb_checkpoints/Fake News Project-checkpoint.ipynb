{
 "cells": [
  {
   "cell_type": "markdown",
   "metadata": {},
   "source": [
    "# Set Up"
   ]
  },
  {
   "cell_type": "code",
   "execution_count": 1,
   "metadata": {},
   "outputs": [],
   "source": [
    "\"\"\" This project aims to provide a solution to the problem of distinguishing real and fake news. \"\"\"\n",
    "\n",
    "import random\n",
    "import math\n",
    "import matplotlib.pyplot as plt\n",
    "import pandas as pd\n",
    "import numpy as np\n",
    "from sklearn.feature_extraction.text import TfidfVectorizer \n",
    "from sklearn.svm import SVC\n",
    "from sklearn.model_selection import KFold\n",
    "from sklearn.metrics import classification_report, precision_score, recall_score"
   ]
  },
  {
   "cell_type": "code",
   "execution_count": 2,
   "metadata": {},
   "outputs": [
    {
     "data": {
      "text/html": [
       "<div>\n",
       "<style scoped>\n",
       "    .dataframe tbody tr th:only-of-type {\n",
       "        vertical-align: middle;\n",
       "    }\n",
       "\n",
       "    .dataframe tbody tr th {\n",
       "        vertical-align: top;\n",
       "    }\n",
       "\n",
       "    .dataframe thead th {\n",
       "        text-align: right;\n",
       "    }\n",
       "</style>\n",
       "<table border=\"1\" class=\"dataframe\">\n",
       "  <thead>\n",
       "    <tr style=\"text-align: right;\">\n",
       "      <th></th>\n",
       "      <th>title</th>\n",
       "      <th>text</th>\n",
       "      <th>label</th>\n",
       "    </tr>\n",
       "  </thead>\n",
       "  <tbody>\n",
       "    <tr>\n",
       "      <th>0</th>\n",
       "      <td>You Can Smell Hillary’s Fear</td>\n",
       "      <td>Daniel Greenfield, a Shillman Journalism Fello...</td>\n",
       "      <td>FAKE</td>\n",
       "    </tr>\n",
       "    <tr>\n",
       "      <th>1</th>\n",
       "      <td>Watch The Exact Moment Paul Ryan Committed Pol...</td>\n",
       "      <td>Google Pinterest Digg Linkedin Reddit Stumbleu...</td>\n",
       "      <td>FAKE</td>\n",
       "    </tr>\n",
       "    <tr>\n",
       "      <th>2</th>\n",
       "      <td>Kerry to go to Paris in gesture of sympathy</td>\n",
       "      <td>U.S. Secretary of State John F. Kerry said Mon...</td>\n",
       "      <td>REAL</td>\n",
       "    </tr>\n",
       "    <tr>\n",
       "      <th>3</th>\n",
       "      <td>Bernie supporters on Twitter erupt in anger ag...</td>\n",
       "      <td>— Kaydee King (@KaydeeKing) November 9, 2016 T...</td>\n",
       "      <td>FAKE</td>\n",
       "    </tr>\n",
       "    <tr>\n",
       "      <th>4</th>\n",
       "      <td>The Battle of New York: Why This Primary Matters</td>\n",
       "      <td>It's primary day in New York and front-runners...</td>\n",
       "      <td>REAL</td>\n",
       "    </tr>\n",
       "    <tr>\n",
       "      <th>...</th>\n",
       "      <td>...</td>\n",
       "      <td>...</td>\n",
       "      <td>...</td>\n",
       "    </tr>\n",
       "    <tr>\n",
       "      <th>6330</th>\n",
       "      <td>State Department says it can't find emails fro...</td>\n",
       "      <td>The State Department told the Republican Natio...</td>\n",
       "      <td>REAL</td>\n",
       "    </tr>\n",
       "    <tr>\n",
       "      <th>6331</th>\n",
       "      <td>The ‘P’ in PBS Should Stand for ‘Plutocratic’ ...</td>\n",
       "      <td>The ‘P’ in PBS Should Stand for ‘Plutocratic’ ...</td>\n",
       "      <td>FAKE</td>\n",
       "    </tr>\n",
       "    <tr>\n",
       "      <th>6332</th>\n",
       "      <td>Anti-Trump Protesters Are Tools of the Oligarc...</td>\n",
       "      <td>Anti-Trump Protesters Are Tools of the Oligarc...</td>\n",
       "      <td>FAKE</td>\n",
       "    </tr>\n",
       "    <tr>\n",
       "      <th>6333</th>\n",
       "      <td>In Ethiopia, Obama seeks progress on peace, se...</td>\n",
       "      <td>ADDIS ABABA, Ethiopia —President Obama convene...</td>\n",
       "      <td>REAL</td>\n",
       "    </tr>\n",
       "    <tr>\n",
       "      <th>6334</th>\n",
       "      <td>Jeb Bush Is Suddenly Attacking Trump. Here's W...</td>\n",
       "      <td>Jeb Bush Is Suddenly Attacking Trump. Here's W...</td>\n",
       "      <td>REAL</td>\n",
       "    </tr>\n",
       "  </tbody>\n",
       "</table>\n",
       "<p>6335 rows × 3 columns</p>\n",
       "</div>"
      ],
      "text/plain": [
       "                                                  title  \\\n",
       "0                          You Can Smell Hillary’s Fear   \n",
       "1     Watch The Exact Moment Paul Ryan Committed Pol...   \n",
       "2           Kerry to go to Paris in gesture of sympathy   \n",
       "3     Bernie supporters on Twitter erupt in anger ag...   \n",
       "4      The Battle of New York: Why This Primary Matters   \n",
       "...                                                 ...   \n",
       "6330  State Department says it can't find emails fro...   \n",
       "6331  The ‘P’ in PBS Should Stand for ‘Plutocratic’ ...   \n",
       "6332  Anti-Trump Protesters Are Tools of the Oligarc...   \n",
       "6333  In Ethiopia, Obama seeks progress on peace, se...   \n",
       "6334  Jeb Bush Is Suddenly Attacking Trump. Here's W...   \n",
       "\n",
       "                                                   text label  \n",
       "0     Daniel Greenfield, a Shillman Journalism Fello...  FAKE  \n",
       "1     Google Pinterest Digg Linkedin Reddit Stumbleu...  FAKE  \n",
       "2     U.S. Secretary of State John F. Kerry said Mon...  REAL  \n",
       "3     — Kaydee King (@KaydeeKing) November 9, 2016 T...  FAKE  \n",
       "4     It's primary day in New York and front-runners...  REAL  \n",
       "...                                                 ...   ...  \n",
       "6330  The State Department told the Republican Natio...  REAL  \n",
       "6331  The ‘P’ in PBS Should Stand for ‘Plutocratic’ ...  FAKE  \n",
       "6332  Anti-Trump Protesters Are Tools of the Oligarc...  FAKE  \n",
       "6333  ADDIS ABABA, Ethiopia —President Obama convene...  REAL  \n",
       "6334  Jeb Bush Is Suddenly Attacking Trump. Here's W...  REAL  \n",
       "\n",
       "[6335 rows x 3 columns]"
      ]
     },
     "execution_count": 2,
     "metadata": {},
     "output_type": "execute_result"
    }
   ],
   "source": [
    "df = pd.read_csv('news.csv')  # opens and reads news dataset  \n",
    "df"
   ]
  },
  {
   "cell_type": "code",
   "execution_count": 3,
   "metadata": {},
   "outputs": [],
   "source": [
    "vectorizer = TfidfVectorizer()"
   ]
  },
  {
   "cell_type": "code",
   "execution_count": 4,
   "metadata": {},
   "outputs": [],
   "source": [
    "splits = 5"
   ]
  },
  {
   "cell_type": "markdown",
   "metadata": {},
   "source": [
    "# Proof of Text Model Concept"
   ]
  },
  {
   "cell_type": "code",
   "execution_count": 101,
   "metadata": {},
   "outputs": [],
   "source": [
    "from sklearn.model_selection import train_test_split\n",
    "from sklearn.metrics import plot_roc_curve\n",
    "from sklearn.datasets import load_wine"
   ]
  },
  {
   "cell_type": "code",
   "execution_count": 5,
   "metadata": {},
   "outputs": [
    {
     "ename": "NameError",
     "evalue": "name 'plot_roc_curve' is not defined",
     "output_type": "error",
     "traceback": [
      "\u001b[0;31m---------------------------------------------------------------------------\u001b[0m",
      "\u001b[0;31mNameError\u001b[0m                                 Traceback (most recent call last)",
      "\u001b[0;32m<ipython-input-5-7920b16ec8ec>\u001b[0m in \u001b[0;36m<module>\u001b[0;34m\u001b[0m\n\u001b[1;32m     10\u001b[0m     \u001b[0mpredicts\u001b[0m \u001b[0;34m=\u001b[0m  \u001b[0mmodel\u001b[0m\u001b[0;34m.\u001b[0m\u001b[0mpredict\u001b[0m\u001b[0;34m(\u001b[0m\u001b[0mtext_features\u001b[0m\u001b[0;34m[\u001b[0m\u001b[0mtest\u001b[0m\u001b[0;34m]\u001b[0m\u001b[0;34m)\u001b[0m  \u001b[0;31m# tests and predicts\u001b[0m\u001b[0;34m\u001b[0m\u001b[0;34m\u001b[0m\u001b[0m\n\u001b[1;32m     11\u001b[0m \u001b[0;34m\u001b[0m\u001b[0m\n\u001b[0;32m---> 12\u001b[0;31m     \u001b[0mtext_model_vis\u001b[0m \u001b[0;34m=\u001b[0m \u001b[0mplot_roc_curve\u001b[0m\u001b[0;34m(\u001b[0m\u001b[0mmodel\u001b[0m\u001b[0;34m,\u001b[0m \u001b[0mtext_features\u001b[0m\u001b[0;34m[\u001b[0m\u001b[0mtest\u001b[0m\u001b[0;34m]\u001b[0m\u001b[0;34m,\u001b[0m \u001b[0mlabels\u001b[0m\u001b[0;34m.\u001b[0m\u001b[0miloc\u001b[0m\u001b[0;34m[\u001b[0m\u001b[0mtest\u001b[0m\u001b[0;34m]\u001b[0m\u001b[0;34m)\u001b[0m  \u001b[0;31m# False Positive vs. True Positive Visual\u001b[0m\u001b[0;34m\u001b[0m\u001b[0;34m\u001b[0m\u001b[0m\n\u001b[0m\u001b[1;32m     13\u001b[0m \u001b[0;34m\u001b[0m\u001b[0m\n\u001b[1;32m     14\u001b[0m \u001b[0;34m\u001b[0m\u001b[0m\n",
      "\u001b[0;31mNameError\u001b[0m: name 'plot_roc_curve' is not defined"
     ]
    }
   ],
   "source": [
    "text_features = vectorizer.fit_transform(df['text'])\n",
    "labels = df['label']\n",
    "kf = KFold(n_splits=splits) # splits data into n (splits) random groups to test and train against  \n",
    "\n",
    "precision_real, recall_real  = 0, 0 \n",
    "precision_fake, recall_fake = 0, 0 \n",
    "for train, test in kf.split(text_features):\n",
    "    model = SVC()\n",
    "    model.fit(text_features[train], labels.iloc[train]) # trains the data \n",
    "    predicts =  model.predict(text_features[test])  # tests and predicts \n",
    "    \n",
    "    text_model_vis = plot_roc_curve(model, text_features[test], labels.iloc[test])  # False Positive vs. True Positive Visual\n",
    "\n",
    "    \n",
    "    report = classification_report(labels[test], predicts, output_dict=True)  # stores classification report to extract precision and recalls\n",
    "    precision_real += report.get('REAL').get('precision')  # adds all of the precisions and recalls together into accumulator \n",
    "    recall_real += report.get('REAL').get('recall')\n",
    "    precision_fake += report.get('FAKE').get('precision')\n",
    "    recall_fake += report.get('FAKE').get('recall')\n",
    "    \n",
    "# finds averages of precisions and recalls \n",
    "precision_real /= splits\n",
    "precision_fake /= splits\n",
    "recall_real /= splits\n",
    "recall_fake /= splits\n",
    "\n",
    "\n",
    "#     print('predictions:', predicts)\n",
    "#     print('test:', labels[test])\n",
    "#     print (classification_report(labels[test], predicts))"
   ]
  },
  {
   "cell_type": "code",
   "execution_count": null,
   "metadata": {},
   "outputs": [],
   "source": [
    "# Creates bar graph comparing Percent Accuracy of testing based on if real or fake\n",
    "N = 2\n",
    "real = (precision_real, recall_real)\n",
    "fake = (precision_fake, recall_fake)\n",
    "\n",
    "ind = np.arange(N) \n",
    "width = 0.35       \n",
    "plt.bar(ind, real, width, label='Real')\n",
    "plt.bar(ind + width, fake, width, label='Fake')\n",
    "\n",
    "plt.ylabel('Percent (%)')\n",
    "plt.title('Text Model Accuracy by Label')\n",
    "\n",
    "plt.xticks(ind + width / 2, ('Precision', 'Recall'))\n",
    "plt.legend(loc='best')\n",
    "\n",
    "plt.show()"
   ]
  },
  {
   "cell_type": "markdown",
   "metadata": {},
   "source": [
    "# Proof of Title Model Concept"
   ]
  },
  {
   "cell_type": "code",
   "execution_count": null,
   "metadata": {},
   "outputs": [],
   "source": [
    "title_features = vectorizer.fit_transform(df['title'])\n",
    "labels = df['label']\n",
    "kf = KFold(n_splits=splits) # splits data into n (splits) random groups to test and train against\n",
    "\n",
    "precision_real, recall_real  = 0, 0 \n",
    "precision_fake, recall_fake = 0, 0 \n",
    "for train, test in kf.split(title_features):\n",
    "    model = SVC()\n",
    "    model.fit(title_features[train], labels.iloc[train]) # trains data \n",
    "    predicts =  model.predict(title_features[test])  # tests and predicts \n",
    "    \n",
    "    title_model_vis = plot_roc_curve(model, title_features[test], labels.iloc[test])  # False Positive vs. True Positive\n",
    "\n",
    "    \n",
    "    report = classification_report(labels[test], predicts, output_dict=True)# stores classification report to extract precision and recalls\n",
    "    precision_real += report.get('REAL').get('precision')  # adds all of the precisions and recalls together into accumulator \n",
    "    recall_real += report.get('REAL').get('recall')\n",
    "    precision_fake += report.get('FAKE').get('precision')\n",
    "    recall_fake += report.get('FAKE').get('recall')\n",
    "    \n",
    "# gets averages of precisions and recalls  \n",
    "precision_real /= splits\n",
    "precision_fake /= splits\n",
    "recall_real /= splits\n",
    "recall_fake /= splits\n",
    "\n",
    "\n",
    "#     print('predictions:', predicts)\n",
    "#     print('test:', labels[test])\n",
    "#     print (classification_report(labels[test], predicts))"
   ]
  },
  {
   "cell_type": "code",
   "execution_count": null,
   "metadata": {},
   "outputs": [],
   "source": [
    "# Creates bar graph comparing Percent Accuracy of testing based on if real or fake\n",
    "\n",
    "N = 2\n",
    "real = (precision_real, recall_real)\n",
    "fake = (precision_fake, recall_fake)\n",
    "\n",
    "ind = np.arange(N) \n",
    "width = 0.35       \n",
    "plt.bar(ind, real, width, label='Real')\n",
    "plt.bar(ind + width, fake, width, label='Fake')\n",
    "\n",
    "plt.ylabel('Percent (%)')\n",
    "plt.title('Title Model Accuracy by Label')\n",
    "\n",
    "plt.xticks(ind + width / 2, ('Precision', 'Recall'))\n",
    "plt.legend(loc='best')\n",
    "\n",
    "plt.show()"
   ]
  },
  {
   "cell_type": "markdown",
   "metadata": {},
   "source": [
    "**After testing and training 6335 articles, we can trust that a model based on this dataset will have a precision between 91 and 97% and are satisfied with that score.**"
   ]
  },
  {
   "cell_type": "markdown",
   "metadata": {},
   "source": [
    "# Creating Models"
   ]
  },
  {
   "cell_type": "code",
   "execution_count": 83,
   "metadata": {},
   "outputs": [],
   "source": [
    "def train_text__model():\n",
    "    model = SVC()\n",
    "    model.fit(text_features, labels)\n",
    "    return model\n",
    "\n",
    "text_model = train_text__model()"
   ]
  },
  {
   "cell_type": "code",
   "execution_count": 87,
   "metadata": {},
   "outputs": [],
   "source": [
    "def train_title__model():\n",
    "    model = SVC()\n",
    "    model.fit(title_features, labels)\n",
    "    return model\n",
    "\n",
    "text_model = train_title__model()"
   ]
  },
  {
   "cell_type": "markdown",
   "metadata": {},
   "source": [
    "# Web Scraping and Formatting"
   ]
  },
  {
   "cell_type": "code",
   "execution_count": 88,
   "metadata": {},
   "outputs": [],
   "source": [
    "from bs4 import BeautifulSoup\n",
    "from bs4.element import Comment\n",
    "import urllib.request\n",
    "\n",
    "\n",
    "def delete_tag(element):\n",
    "    if element.parent.name in ['style', 'script', 'head', 'title', 'meta', '[document]']: # returns false if text is a tag\n",
    "        return False\n",
    "    if isinstance(element, Comment): # returns false if text is a comment\n",
    "        return False\n",
    "    return True\n",
    "\n",
    "def html_to_text(body):\n",
    "    soup = BeautifulSoup(body, 'html.parser')  # goes through article and converts page into text type\n",
    "    texts = soup.findAll(text=True)\n",
    "    visible_texts = filter(delete_tag, texts)  \n",
    "    return u\" \".join(t.strip() for t in visible_texts)"
   ]
  },
  {
   "cell_type": "markdown",
   "metadata": {},
   "source": [
    "# Test Article by Text"
   ]
  },
  {
   "cell_type": "code",
   "execution_count": 85,
   "metadata": {},
   "outputs": [
    {
     "name": "stdout",
     "output_type": "stream",
     "text": [
      "Copy and Paste article url: https://www.washingtonpost.com/world/kerry-to-go-to-paris-in-gesture-of-sympathy/2015/01/12/c63fd031-20fc-4901-89e4-b637c9cf529e_story.html\n",
      "This article is real. You can trust this source.\n"
     ]
    }
   ],
   "source": [
    "try:\n",
    "    html = urllib.request.urlopen(input(\"Copy and Paste article url: \")).read()\n",
    "    soup = BeautifulSoup(html, 'html.parser')\n",
    "    title = soup.find('title')\n",
    "    text = html_to_text(html)\n",
    "except: # if website blocks  from scraping, ask user for title of website\n",
    "    print('Unable to access url of article.')\n",
    "    title = input(\"Copy and Paste Title Name: \")\n",
    "    text = input(\"Copy and Paste Article Text: \")\n",
    "    \n",
    "    \n",
    "data = [[text.lstrip()]]\n",
    "df2 = pd.DataFrame(data, columns = ['text'])\n",
    "\n",
    "\n",
    "article_text = vectorizer.transform(df2['text'])\n",
    "result = text_model.predict(article_text)\n",
    "\n",
    "if result == ['FAKE']:\n",
    "    print ('This article is fake. Find a better source.')\n",
    "elif result == ['REAL']:\n",
    "    print ('This article is real. You can trust this source.')\n",
    "else:\n",
    "    print ('There is an error.')"
   ]
  },
  {
   "cell_type": "markdown",
   "metadata": {},
   "source": [
    "# Test Article by Title"
   ]
  },
  {
   "cell_type": "code",
   "execution_count": 95,
   "metadata": {},
   "outputs": [
    {
     "name": "stdout",
     "output_type": "stream",
     "text": [
      "Copy and Paste article url: https://www.washingtonpost.com/world/kerry-to-go-to-paris-in-gesture-of-sympathy/2015/01/12/c63fd031-20fc-4901-89e4-b637c9cf529e_story.html\n",
      "This article is real. You can trust this source.\n"
     ]
    }
   ],
   "source": [
    "try:\n",
    "    html = urllib.request.urlopen(input(\"Copy and Paste article url: \")).read()\n",
    "    soup = BeautifulSoup(html, 'html.parser')\n",
    "    title = soup.find('title').get_text()\n",
    "    text = html_to_text(html)\n",
    "except: # if website blocks  from scraping, ask user for title of website\n",
    "    print('Unable to access url of article.')\n",
    "    title = input(\"Copy and Paste Title Name: \")\n",
    "    text = input(\"Copy and Paste Article Text: \")\n",
    "    \n",
    "    \n",
    "data = [[title]]\n",
    "df2 = pd.DataFrame(data, columns = ['title'])\n",
    "\n",
    "\n",
    "article_title = vectorizer.transform(df2['title'])\n",
    "result2 = text_model.predict(article_title)\n",
    "\n",
    "if result2 == ['FAKE']:\n",
    "    print ('This article is fake. Find a better source.')\n",
    "elif result2 == ['REAL']:\n",
    "    print ('This article is real. You can trust this source.')\n",
    "else:\n",
    "    print ('There is an error.')"
   ]
  },
  {
   "cell_type": "code",
   "execution_count": null,
   "metadata": {},
   "outputs": [],
   "source": []
  },
  {
   "cell_type": "code",
   "execution_count": null,
   "metadata": {},
   "outputs": [],
   "source": []
  }
 ],
 "metadata": {
  "kernelspec": {
   "display_name": "Python 3",
   "language": "python",
   "name": "python3"
  },
  "language_info": {
   "codemirror_mode": {
    "name": "ipython",
    "version": 3
   },
   "file_extension": ".py",
   "mimetype": "text/x-python",
   "name": "python",
   "nbconvert_exporter": "python",
   "pygments_lexer": "ipython3",
   "version": "3.7.6"
  }
 },
 "nbformat": 4,
 "nbformat_minor": 4
}
